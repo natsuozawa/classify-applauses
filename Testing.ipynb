{
 "cells": [
  {
   "cell_type": "code",
   "execution_count": 1,
   "metadata": {},
   "outputs": [],
   "source": [
    "import numpy as np\n",
    "import matplotlib.pyplot as plt\n",
    "\n",
    "import tensorflow as tf\n",
    "\n",
    "import os"
   ]
  },
  {
   "cell_type": "code",
   "execution_count": 2,
   "metadata": {},
   "outputs": [],
   "source": [
    "MODEL_DIR=\"model\"\n",
    "DATA_DIR=\"data\"\n",
    "SPECTROGRAM_TRAIN_TFRECORD_FILENAME = \"spectrogram_train.tfrecord\"\n",
    "SPECTROGRAM_VALID_TFRECORD_FILENAME = \"spectrogram_valid.tfrecord\"\n",
    "SPECTROGRAM_TEST_TFRECORD_FILENAME = \"spectrogram_test.tfrecord\"\n",
    "\n",
    "BUFFER_SIZE = 64\n",
    "BATCH_SIZE = 16\n",
    "SPECTROGRAM_SHAPE = (85, 129)"
   ]
  },
  {
   "cell_type": "markdown",
   "metadata": {},
   "source": [
    "# Preparation"
   ]
  },
  {
   "cell_type": "code",
   "execution_count": 3,
   "metadata": {},
   "outputs": [],
   "source": [
    "model = tf.keras.models.load_model('model')"
   ]
  },
  {
   "cell_type": "code",
   "execution_count": 18,
   "metadata": {},
   "outputs": [],
   "source": [
    "test_dataset = tf.data.TFRecordDataset([os.path.join(DATA_DIR, SPECTROGRAM_TEST_TFRECORD_FILENAME)])"
   ]
  },
  {
   "cell_type": "code",
   "execution_count": 5,
   "metadata": {},
   "outputs": [],
   "source": [
    "feature_description = {\n",
    "    'spectrogram': tf.io.FixedLenFeature([], tf.string, default_value=''),\n",
    "    'label': tf.io.FixedLenFeature([], tf.float32, default_value=0.0)\n",
    "}\n",
    "\n",
    "def _parse_function(example_proto):\n",
    "    example = tf.io.parse_single_example(example_proto, feature_description)\n",
    "    spectrogram = tf.io.parse_tensor(example['spectrogram'], out_type=tf.float32)\n",
    "    spectrogram = tf.ensure_shape(spectrogram, SPECTROGRAM_SHAPE)\n",
    "    label = tf.ensure_shape(example['label'], ())\n",
    "    return spectrogram, label"
   ]
  },
  {
   "cell_type": "code",
   "execution_count": 19,
   "metadata": {},
   "outputs": [],
   "source": [
    "test_dataset = test_dataset.map(_parse_function)"
   ]
  },
  {
   "cell_type": "code",
   "execution_count": 20,
   "metadata": {},
   "outputs": [],
   "source": [
    "testing_dataset = test_dataset.batch(BATCH_SIZE).prefetch(BUFFER_SIZE).cache()"
   ]
  },
  {
   "cell_type": "markdown",
   "metadata": {},
   "source": [
    "# Run the model on CPU"
   ]
  },
  {
   "cell_type": "code",
   "execution_count": 21,
   "metadata": {},
   "outputs": [
    {
     "name": "stdout",
     "output_type": "stream",
     "text": [
      "93/93 [==============================] - 23s 243ms/step - loss: 0.0278 - accuracy: 0.9906\n"
     ]
    },
    {
     "data": {
      "text/plain": [
       "[0.02776455320417881, 0.9905533194541931]"
      ]
     },
     "execution_count": 21,
     "metadata": {},
     "output_type": "execute_result"
    }
   ],
   "source": [
    "model.evaluate(testing_dataset)"
   ]
  },
  {
   "cell_type": "markdown",
   "metadata": {},
   "source": [
    "Since 1 batch contains 4 seconds of data, this is sufficient."
   ]
  },
  {
   "cell_type": "markdown",
   "metadata": {},
   "source": [
    "# Precision Recall analysis"
   ]
  },
  {
   "cell_type": "code",
   "execution_count": 28,
   "metadata": {},
   "outputs": [],
   "source": [
    "y_pred = np.argmax(model.predict(testing_dataset), axis=1)"
   ]
  },
  {
   "cell_type": "code",
   "execution_count": 22,
   "metadata": {},
   "outputs": [],
   "source": [
    "y = np.array([label for spectrogram, label in test_dataset.as_numpy_iterator()])"
   ]
  },
  {
   "cell_type": "code",
   "execution_count": 31,
   "metadata": {
    "scrolled": true
   },
   "outputs": [
    {
     "data": {
      "text/plain": [
       "0.9933775"
      ]
     },
     "execution_count": 31,
     "metadata": {},
     "output_type": "execute_result"
    }
   ],
   "source": [
    "m = tf.keras.metrics.Precision()\n",
    "m.update_state(y, y_pred)\n",
    "m.result().numpy()"
   ]
  },
  {
   "cell_type": "code",
   "execution_count": 32,
   "metadata": {},
   "outputs": [
    {
     "data": {
      "text/plain": [
       "0.96153843"
      ]
     },
     "execution_count": 32,
     "metadata": {},
     "output_type": "execute_result"
    }
   ],
   "source": [
    "m = tf.keras.metrics.Recall()\n",
    "m.update_state(y, y_pred)\n",
    "m.result().numpy()"
   ]
  },
  {
   "cell_type": "markdown",
   "metadata": {},
   "source": [
    "The model achieves sufficiently high precision and recall on the test set."
   ]
  },
  {
   "cell_type": "markdown",
   "metadata": {},
   "source": [
    "# Test on actual audio"
   ]
  },
  {
   "cell_type": "markdown",
   "metadata": {},
   "source": [
    "Taken from here: https://www.youtube.com/watch?v=mxnL7UrkmY4 \n",
    "\n",
    "Note that this audio is noisier than the training data. It contains extra factors including narration and speech. These factors were not accounted for in the training data because the algorithm's purpose is not to classify applauses from other noise."
   ]
  },
  {
   "cell_type": "code",
   "execution_count": 9,
   "metadata": {},
   "outputs": [],
   "source": [
    "rach, rach_sampling_rate = tf.audio.decode_wav(tf.io.read_file(os.path.join(DATA_DIR, 'rachmaninoff.wav')))"
   ]
  },
  {
   "cell_type": "code",
   "execution_count": 10,
   "metadata": {},
   "outputs": [
    {
     "data": {
      "text/plain": [
       "<tf.Tensor: shape=(), dtype=int32, numpy=48000>"
      ]
     },
     "execution_count": 10,
     "metadata": {},
     "output_type": "execute_result"
    }
   ],
   "source": [
    "rach_sampling_rate"
   ]
  },
  {
   "cell_type": "markdown",
   "metadata": {},
   "source": [
    "Since the sampling rate is different from our training set, we need to make the splits shorter. (The split lengths can't be changed from 11025 for STFT.)"
   ]
  },
  {
   "cell_type": "code",
   "execution_count": 11,
   "metadata": {},
   "outputs": [],
   "source": [
    "def split_data(d, d_sampling_rate):\n",
    "    data_size = d.shape[0]\n",
    "    batch_size = 44100 // 4\n",
    "    batch_count = data_size // batch_size \n",
    "    return np.array_split(d[:batch_count * batch_size], batch_count)"
   ]
  },
  {
   "cell_type": "code",
   "execution_count": 12,
   "metadata": {},
   "outputs": [],
   "source": [
    "rach_split = split_data(rach, rach_sampling_rate)\n",
    "DATA_SIZE = len(rach_split)"
   ]
  },
  {
   "cell_type": "code",
   "execution_count": 13,
   "metadata": {},
   "outputs": [
    {
     "data": {
      "text/plain": [
       "[<matplotlib.lines.Line2D at 0x12313c2d460>,\n",
       " <matplotlib.lines.Line2D at 0x12313c2d670>]"
      ]
     },
     "execution_count": 13,
     "metadata": {},
     "output_type": "execute_result"
    },
    {
     "data": {
      "image/png": "[encoded data removed]",
      "text/plain": [
       "<Figure size 1440x360 with 1 Axes>"
      ]
     },
     "metadata": {
      "needs_background": "light"
     },
     "output_type": "display_data"
    }
   ],
   "source": [
    "fig = plt.figure(figsize=(20, 5))\n",
    "plt.plot(rach, color='blue')"
   ]
  },
  {
   "cell_type": "code",
   "execution_count": 36,
   "metadata": {},
   "outputs": [],
   "source": [
    "dataset = tf.data.Dataset.from_tensor_slices(rach_split)"
   ]
  },
  {
   "cell_type": "code",
   "execution_count": 37,
   "metadata": {},
   "outputs": [],
   "source": [
    "def get_spectrogram(waveform):\n",
    "    spectrogram1 = tf.signal.stft(waveform[:, 0], frame_length=256, frame_step=128)\n",
    "    spectrogram1 = tf.abs(spectrogram1)\n",
    "    return spectrogram1"
   ]
  },
  {
   "cell_type": "code",
   "execution_count": 38,
   "metadata": {},
   "outputs": [
    {
     "name": "stdout",
     "output_type": "stream",
     "text": [
      "WARNING:tensorflow:AutoGraph could not transform <function get_spectrogram at 0x000001231AA27700> and will run it as-is.\n",
      "Please report this to the TensorFlow team. When filing the bug, set the verbosity to 10 (on Linux, `export AUTOGRAPH_VERBOSITY=10`) and attach the full output.\n",
      "Cause: module 'gast' has no attribute 'Index'\n",
      "To silence this warning, decorate the function with @tf.autograph.experimental.do_not_convert\n",
      "WARNING: AutoGraph could not transform <function get_spectrogram at 0x000001231AA27700> and will run it as-is.\n",
      "Please report this to the TensorFlow team. When filing the bug, set the verbosity to 10 (on Linux, `export AUTOGRAPH_VERBOSITY=10`) and attach the full output.\n",
      "Cause: module 'gast' has no attribute 'Index'\n",
      "To silence this warning, decorate the function with @tf.autograph.experimental.do_not_convert\n"
     ]
    }
   ],
   "source": [
    "dataset = dataset.map(get_spectrogram)"
   ]
  },
  {
   "cell_type": "code",
   "execution_count": 39,
   "metadata": {},
   "outputs": [],
   "source": [
    "dataset = dataset.batch(BATCH_SIZE).prefetch(BUFFER_SIZE).cache()"
   ]
  },
  {
   "cell_type": "code",
   "execution_count": 49,
   "metadata": {},
   "outputs": [],
   "source": [
    "y_pred = model.predict(dataset)"
   ]
  },
  {
   "cell_type": "code",
   "execution_count": 50,
   "metadata": {},
   "outputs": [],
   "source": [
    "y_pred = np.argmax(y_pred, axis=1)"
   ]
  },
  {
   "cell_type": "code",
   "execution_count": 55,
   "metadata": {},
   "outputs": [
    {
     "data": {
      "text/plain": [
       "[<matplotlib.lines.Line2D at 0x1231bf44370>]"
      ]
     },
     "execution_count": 55,
     "metadata": {},
     "output_type": "execute_result"
    },
    {
     "data": {
      "image/png": "[encoded data removed]",
      "text/plain": [
       "<Figure size 432x288 with 1 Axes>"
      ]
     },
     "metadata": {
      "needs_background": "light"
     },
     "output_type": "display_data"
    }
   ],
   "source": [
    "plt.scatter(np.arange(y_pred.shape[0]), y_pred, s=1)\n",
    "plt.plot(np.linspace(51, 51), np.linspace(0, 1), c='red')\n",
    "plt.plot(np.linspace(70, 70), np.linspace(0, 1), c='green')\n",
    "plt.plot(np.linspace(960, 960), np.linspace(0, 1), c='red')"
   ]
  },
  {
   "cell_type": "markdown",
   "metadata": {},
   "source": [
    "The video contains applauses roughly from 0:00-0:11 (0-51) and 3:41-4:17 (960-1122), and music from 0:16-3:40 (70-959). (Boundaries plotted above) \n",
    "\n",
    "It looks like the model predicts the labels quite conservatively, where precision seems to be very high (from inspection) but recall is not. This might be because in the applauses at the end also involve speech from the narrator. Also note that the time sections which are neither applauses or music (the performer is speaking/waiting and the audience is quiet) is classified negatively."
   ]
  },
  {
   "cell_type": "markdown",
   "metadata": {},
   "source": [
    "# Sequential cleanup"
   ]
  },
  {
   "cell_type": "markdown",
   "metadata": {},
   "source": [
    "\n",
    "We would like to incorporate sequential data, as much as the circumstances allow. The algorithm would likely have a harder time deciphering the boundary points if the data flows one way (i.e. in an RNN). Instead, we will try a simpler algorithm - if a single time section of one label is bounded on both sides by a time sections of a different label, and either one of the bounding time sections is consecutively connected, the former time section is to be converted. \n",
    "\n",
    "As an example:\n",
    "\n",
    "1 0 1 1 -> 1 1 1 1\n",
    "0 1 0 1 -> 0 1 0 1\n",
    "1 1 0 1 0 1 0 0 -> 1 1 1 1 0 0 0 0"
   ]
  },
  {
   "cell_type": "code",
   "execution_count": 52,
   "metadata": {},
   "outputs": [],
   "source": [
    "def transform(s):\n",
    "    t = np.zeros(s.shape)\n",
    "    t[0] = s[0]\n",
    "    for i in range(1, s.shape[0] - 1):\n",
    "        if s[i - 1] != s[i] and s[i + 1] != s[i]:\n",
    "            if (i - 2 >= 0 and s[i - 2] != s[i]) or (i + 2 < s.shape[0] and s[i + 2] != s[i]):\n",
    "                t[i] = s[i - 1]\n",
    "            else:\n",
    "                t[i] = s[i]\n",
    "        else:\n",
    "            t[i] = s[i]\n",
    "    t[s.shape[0] - 1] = s[s.shape[0] - 1]\n",
    "    return t"
   ]
  },
  {
   "cell_type": "code",
   "execution_count": 53,
   "metadata": {},
   "outputs": [],
   "source": [
    "y_trans = transform(y_pred)"
   ]
  },
  {
   "cell_type": "code",
   "execution_count": 54,
   "metadata": {},
   "outputs": [
    {
     "data": {
      "text/plain": [
       "[<matplotlib.lines.Line2D at 0x1231bee1850>]"
      ]
     },
     "execution_count": 54,
     "metadata": {},
     "output_type": "execute_result"
    },
    {
     "data": {
      "image/png": "[encoded data removed]",
      "text/plain": [
       "<Figure size 432x288 with 1 Axes>"
      ]
     },
     "metadata": {
      "needs_background": "light"
     },
     "output_type": "display_data"
    }
   ],
   "source": [
    "plt.scatter(np.arange(y_trans.shape[0]), y_trans, s=1)\n",
    "plt.plot(np.linspace(51, 51), np.linspace(0, 1), c='red')\n",
    "plt.plot(np.linspace(70, 70), np.linspace(0, 1), c='green')\n",
    "plt.plot(np.linspace(960, 960), np.linspace(0, 1), c='red')"
   ]
  },
  {
   "cell_type": "code",
   "execution_count": 57,
   "metadata": {},
   "outputs": [
    {
     "name": "stdout",
     "output_type": "stream",
     "text": [
      "351\n",
      "355\n",
      "356\n",
      "484\n",
      "485\n"
     ]
    }
   ],
   "source": [
    "for i in range(300, 500):\n",
    "    if y_pred[i] == 1:\n",
    "        print(i)"
   ]
  },
  {
   "cell_type": "markdown",
   "metadata": {},
   "source": [
    "Notice that this process cannot be satisfied with a trivial algorithm. Due to the nature of imperfectness of models, it seems difficult to achieve perfection. \n",
    "\n",
    "The incorporation of sequential data will be a topic for another study. We predict that it will be a similar task to video segment classification using an RNN."
   ]
  },
  {
   "cell_type": "code",
   "execution_count": null,
   "metadata": {},
   "outputs": [],
   "source": []
  }
 ],
 "metadata": {
  "kernelspec": {
   "display_name": "Python 3",
   "language": "python",
   "name": "python3"
  },
  "language_info": {
   "codemirror_mode": {
    "name": "ipython",
    "version": 3
   },
   "file_extension": ".py",
   "mimetype": "text/x-python",
   "name": "python",
   "nbconvert_exporter": "python",
   "pygments_lexer": "ipython3",
   "version": "3.8.3"
  }
 },
 "nbformat": 4,
 "nbformat_minor": 4
}
