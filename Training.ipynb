{
 "cells": [
  {
   "cell_type": "code",
   "execution_count": 1,
   "metadata": {},
   "outputs": [],
   "source": [
    "import os\n",
    "\n",
    "import numpy as np\n",
    "import matplotlib.pyplot as plt\n",
    "import tensorflow as tf"
   ]
  },
  {
   "cell_type": "code",
   "execution_count": 2,
   "metadata": {},
   "outputs": [],
   "source": [
    "tf.random.set_seed(100)"
   ]
  },
  {
   "cell_type": "code",
   "execution_count": 44,
   "metadata": {},
   "outputs": [],
   "source": [
    "SPECTROGRAM_TRAIN_TFRECORD_FILENAME = \"spectrogram_train.tfrecord\"\n",
    "SPECTROGRAM_VALID_TFRECORD_FILENAME = \"spectrogram_valid.tfrecord\"\n",
    "SPECTROGRAM_TEST_TFRECORD_FILENAME = \"spectrogram_test.tfrecord\"\n",
    "DATA_DIR = \"data\"\n",
    "BUFFER_SIZE = 64\n",
    "BATCH_SIZE = 64\n",
    "SPECTROGRAM_SHAPE = (85, 129)"
   ]
  },
  {
   "cell_type": "code",
   "execution_count": 4,
   "metadata": {},
   "outputs": [
    {
     "name": "stdout",
     "output_type": "stream",
     "text": [
      "Wed May 12 11:06:09 2021       \r\n",
      "+-----------------------------------------------------------------------------+\r\n",
      "| NVIDIA-SMI 450.80.02    Driver Version: 450.80.02    CUDA Version: 11.0     |\r\n",
      "|-------------------------------+----------------------+----------------------+\r\n",
      "| GPU  Name        Persistence-M| Bus-Id        Disp.A | Volatile Uncorr. ECC |\r\n",
      "| Fan  Temp  Perf  Pwr:Usage/Cap|         Memory-Usage | GPU-Util  Compute M. |\r\n",
      "|                               |                      |               MIG M. |\r\n",
      "|===============================+======================+======================|\r\n",
      "|   0  GeForce GTX 106...  Off  | 00000000:04:00.0 Off |                  N/A |\r\n",
      "| 32%   30C    P8     6W / 120W |      0MiB /  6078MiB |      0%      Default |\r\n",
      "|                               |                      |                  N/A |\r\n",
      "+-------------------------------+----------------------+----------------------+\r\n",
      "|   1  GeForce GTX 106...  Off  | 00000000:05:00.0 Off |                  N/A |\r\n",
      "| 30%   35C    P8     6W / 120W |      0MiB /  6078MiB |      0%      Default |\r\n",
      "|                               |                      |                  N/A |\r\n",
      "+-------------------------------+----------------------+----------------------+\r\n",
      "|   2  GeForce GTX 106...  Off  | 00000000:08:00.0 Off |                  N/A |\r\n",
      "| 30%   27C    P8     5W / 120W |      0MiB /  6078MiB |      0%      Default |\r\n",
      "|                               |                      |                  N/A |\r\n",
      "+-------------------------------+----------------------+----------------------+\r\n",
      "|   3  GeForce GTX 106...  Off  | 00000000:09:00.0 Off |                  N/A |\r\n",
      "| 30%   31C    P8     6W / 120W |      0MiB /  6078MiB |      0%      Default |\r\n",
      "|                               |                      |                  N/A |\r\n",
      "+-------------------------------+----------------------+----------------------+\r\n",
      "|   4  GeForce GTX 106...  Off  | 00000000:83:00.0 Off |                  N/A |\r\n",
      "| 31%   30C    P8     6W / 120W |      0MiB /  6078MiB |      0%      Default |\r\n",
      "|                               |                      |                  N/A |\r\n",
      "+-------------------------------+----------------------+----------------------+\r\n",
      "                                                                               \r\n",
      "+-----------------------------------------------------------------------------+\r\n",
      "| Processes:                                                                  |\r\n",
      "|  GPU   GI   CI        PID   Type   Process name                  GPU Memory |\r\n",
      "|        ID   ID                                                   Usage      |\r\n",
      "|=============================================================================|\r\n",
      "|  No running processes found                                                 |\r\n",
      "+-----------------------------------------------------------------------------+\r\n"
     ]
    }
   ],
   "source": [
    "!nvidia-smi"
   ]
  },
  {
   "cell_type": "code",
   "execution_count": 5,
   "metadata": {},
   "outputs": [
    {
     "data": {
      "text/plain": [
       "[PhysicalDevice(name='/physical_device:GPU:0', device_type='GPU'),\n",
       " PhysicalDevice(name='/physical_device:GPU:1', device_type='GPU'),\n",
       " PhysicalDevice(name='/physical_device:GPU:2', device_type='GPU'),\n",
       " PhysicalDevice(name='/physical_device:GPU:3', device_type='GPU'),\n",
       " PhysicalDevice(name='/physical_device:GPU:4', device_type='GPU')]"
      ]
     },
     "execution_count": 5,
     "metadata": {},
     "output_type": "execute_result"
    }
   ],
   "source": [
    "tf.config.list_physical_devices('GPU')"
   ]
  },
  {
   "cell_type": "markdown",
   "metadata": {},
   "source": [
    "# Load record"
   ]
  },
  {
   "cell_type": "code",
   "execution_count": 48,
   "metadata": {},
   "outputs": [],
   "source": [
    "train_dataset = tf.data.TFRecordDataset([os.path.join(DATA_DIR, SPECTROGRAM_TRAIN_TFRECORD_FILENAME)])\n",
    "valid_dataset = tf.data.TFRecordDataset([os.path.join(DATA_DIR, SPECTROGRAM_VALID_TFRECORD_FILENAME)])\n",
    "test_dataset = tf.data.TFRecordDataset([os.path.join(DATA_DIR, SPECTROGRAM_TEST_TFRECORD_FILENAME)])"
   ]
  },
  {
   "cell_type": "code",
   "execution_count": 7,
   "metadata": {},
   "outputs": [],
   "source": [
    "feature_description = {\n",
    "    'spectrogram': tf.io.FixedLenFeature([], tf.string, default_value=''),\n",
    "    'label': tf.io.FixedLenFeature([], tf.float32, default_value=0.0)\n",
    "}\n",
    "\n",
    "def _parse_function(example_proto):\n",
    "    example = tf.io.parse_single_example(example_proto, feature_description)\n",
    "    spectrogram = tf.io.parse_tensor(example['spectrogram'], out_type=tf.float32)\n",
    "    spectrogram = tf.ensure_shape(spectrogram, SPECTROGRAM_SHAPE)\n",
    "    label = tf.ensure_shape(example['label'], ())\n",
    "    return spectrogram, label"
   ]
  },
  {
   "cell_type": "code",
   "execution_count": 49,
   "metadata": {},
   "outputs": [],
   "source": [
    "train_dataset = train_dataset.map(_parse_function)\n",
    "valid_dataset = valid_dataset.map(_parse_function)\n",
    "test_dataset = test_dataset.map(_parse_function)"
   ]
  },
  {
   "cell_type": "code",
   "execution_count": 9,
   "metadata": {
    "scrolled": true
   },
   "outputs": [
    {
     "name": "stdout",
     "output_type": "stream",
     "text": [
      "(<tf.Tensor: shape=(85, 129), dtype=float32, numpy=\n",
      "array([[3.79017234e-01, 1.37462819e+00, 3.20527291e+00, ...,\n",
      "        2.03023610e-05, 4.91823666e-05, 1.59546733e-04],\n",
      "       [1.34324759e-01, 1.31664729e+00, 3.49691677e+00, ...,\n",
      "        1.01808109e-04, 1.20156576e-04, 9.34302807e-05],\n",
      "       [7.57609010e-02, 1.05255270e+00, 2.61501384e+00, ...,\n",
      "        7.29629246e-05, 3.64155385e-05, 2.37822533e-05],\n",
      "       ...,\n",
      "       [3.68746817e-01, 1.46235037e+00, 3.51829767e+00, ...,\n",
      "        4.68326034e-05, 5.54631079e-05, 7.57128000e-05],\n",
      "       [6.25966415e-02, 9.80049014e-01, 2.85418606e+00, ...,\n",
      "        8.71873126e-05, 1.01852413e-04, 8.16807151e-05],\n",
      "       [3.01045269e-01, 1.19051707e+00, 2.84571457e+00, ...,\n",
      "        4.19902790e-05, 1.61160388e-05, 2.91764736e-05]], dtype=float32)>, <tf.Tensor: shape=(), dtype=float32, numpy=0.0>)\n"
     ]
    }
   ],
   "source": [
    "for i in train_dataset.take(1):\n",
    "    print(i)"
   ]
  },
  {
   "cell_type": "markdown",
   "metadata": {},
   "source": [
    "# Preparation"
   ]
  },
  {
   "cell_type": "code",
   "execution_count": 50,
   "metadata": {},
   "outputs": [],
   "source": [
    "train_dataset = train_dataset.batch(BATCH_SIZE).prefetch(BUFFER_SIZE).cache()\n",
    "valid_dataset = valid_dataset.batch(BATCH_SIZE).prefetch(BUFFER_SIZE).cache()\n",
    "test_dataset = test_dataset.batch(BATCH_SIZE).prefetch(BUFFER_SIZE).cache()"
   ]
  },
  {
   "cell_type": "markdown",
   "metadata": {},
   "source": [
    "# First model"
   ]
  },
  {
   "cell_type": "markdown",
   "metadata": {},
   "source": [
    "Model parameters copied from tutorial: https://www.tensorflow.org/tutorials/audio/simple_audio"
   ]
  },
  {
   "cell_type": "code",
   "execution_count": 11,
   "metadata": {},
   "outputs": [
    {
     "name": "stdout",
     "output_type": "stream",
     "text": [
      "Model: \"sequential\"\n",
      "_________________________________________________________________\n",
      "Layer (type)                 Output Shape              Param #   \n",
      "=================================================================\n",
      "reshape (Reshape)            (None, 85, 129, 1)        0         \n",
      "_________________________________________________________________\n",
      "resizing (Resizing)          (None, 32, 32, 1)         0         \n",
      "_________________________________________________________________\n",
      "normalization (Normalization (None, 32, 32, 129)       259       \n",
      "_________________________________________________________________\n",
      "conv2d (Conv2D)              (None, 30, 30, 32)        37184     \n",
      "_________________________________________________________________\n",
      "conv2d_1 (Conv2D)            (None, 28, 28, 64)        18496     \n",
      "_________________________________________________________________\n",
      "max_pooling2d (MaxPooling2D) (None, 14, 14, 64)        0         \n",
      "_________________________________________________________________\n",
      "dropout (Dropout)            (None, 14, 14, 64)        0         \n",
      "_________________________________________________________________\n",
      "flatten (Flatten)            (None, 12544)             0         \n",
      "_________________________________________________________________\n",
      "dense (Dense)                (None, 128)               1605760   \n",
      "_________________________________________________________________\n",
      "dropout_1 (Dropout)          (None, 128)               0         \n",
      "_________________________________________________________________\n",
      "dense_1 (Dense)              (None, 2)                 258       \n",
      "=================================================================\n",
      "Total params: 1,661,957\n",
      "Trainable params: 1,661,698\n",
      "Non-trainable params: 259\n",
      "_________________________________________________________________\n"
     ]
    }
   ],
   "source": [
    "norm_layer = tf.keras.layers.experimental.preprocessing.Normalization()\n",
    "norm_layer.adapt(train_dataset.map(lambda x, _: x))\n",
    "model1 = tf.keras.models.Sequential([\n",
    "    tf.keras.Input(shape=SPECTROGRAM_SHAPE),\n",
    "    tf.keras.layers.Reshape((SPECTROGRAM_SHAPE[0], SPECTROGRAM_SHAPE[1], 1)),\n",
    "    tf.keras.layers.experimental.preprocessing.Resizing(32, 32),\n",
    "    norm_layer,\n",
    "    tf.keras.layers.Conv2D(32, 3, activation='relu'),\n",
    "    tf.keras.layers.Conv2D(64, 3, activation='relu'),\n",
    "    tf.keras.layers.MaxPooling2D(),\n",
    "    tf.keras.layers.Dropout(0.25),\n",
    "    tf.keras.layers.Flatten(),\n",
    "    tf.keras.layers.Dense(128, activation='relu'),\n",
    "    tf.keras.layers.Dropout(0.5),\n",
    "    tf.keras.layers.Dense(2)\n",
    "])\n",
    "model1.summary()"
   ]
  },
  {
   "cell_type": "code",
   "execution_count": 12,
   "metadata": {},
   "outputs": [],
   "source": [
    "model1.compile(optimizer='adam', loss=tf.keras.losses.SparseCategoricalCrossentropy(from_logits=True), \n",
    "               metrics=['accuracy'])"
   ]
  },
  {
   "cell_type": "code",
   "execution_count": 13,
   "metadata": {},
   "outputs": [
    {
     "name": "stdout",
     "output_type": "stream",
     "text": [
      "Epoch 1/20\n",
      "163/163 [==============================] - 21s 90ms/step - loss: 471.9781 - accuracy: 0.8021 - val_loss: 0.3514 - val_accuracy: 0.8637\n",
      "Epoch 2/20\n",
      "163/163 [==============================] - 2s 12ms/step - loss: 0.3855 - accuracy: 0.8871 - val_loss: 0.2418 - val_accuracy: 0.9426\n",
      "Epoch 3/20\n",
      "163/163 [==============================] - 2s 12ms/step - loss: 0.2804 - accuracy: 0.9211 - val_loss: 0.2100 - val_accuracy: 0.9538\n",
      "Epoch 4/20\n",
      "163/163 [==============================] - 2s 12ms/step - loss: 0.2495 - accuracy: 0.9269 - val_loss: 0.2237 - val_accuracy: 0.9484\n",
      "Epoch 5/20\n",
      "163/163 [==============================] - 2s 12ms/step - loss: 0.2884 - accuracy: 0.9250 - val_loss: 0.1836 - val_accuracy: 0.9555\n",
      "Epoch 6/20\n",
      "163/163 [==============================] - 2s 12ms/step - loss: 0.2207 - accuracy: 0.9331 - val_loss: 0.1710 - val_accuracy: 0.9582\n",
      "Epoch 7/20\n",
      "163/163 [==============================] - 2s 12ms/step - loss: 0.2029 - accuracy: 0.9411 - val_loss: 0.1671 - val_accuracy: 0.9585\n",
      "Epoch 8/20\n",
      "163/163 [==============================] - 2s 12ms/step - loss: 0.1950 - accuracy: 0.9429 - val_loss: 0.1826 - val_accuracy: 0.9578\n",
      "Epoch 9/20\n",
      "163/163 [==============================] - 2s 12ms/step - loss: 0.1963 - accuracy: 0.9445 - val_loss: 0.1309 - val_accuracy: 0.9663\n",
      "Epoch 10/20\n",
      "163/163 [==============================] - 2s 12ms/step - loss: 0.1717 - accuracy: 0.9486 - val_loss: 0.1354 - val_accuracy: 0.9690\n",
      "Epoch 11/20\n",
      "163/163 [==============================] - 2s 12ms/step - loss: 0.1919 - accuracy: 0.9438 - val_loss: 0.1776 - val_accuracy: 0.9565\n"
     ]
    }
   ],
   "source": [
    "history1 = model1.fit(train_dataset, epochs=20, validation_data=valid_dataset, callbacks=tf.keras.callbacks.EarlyStopping(patience=2))"
   ]
  },
  {
   "cell_type": "markdown",
   "metadata": {},
   "source": [
    "# Primary analysis"
   ]
  },
  {
   "cell_type": "markdown",
   "metadata": {},
   "source": [
    "Note that the base model already does pretty well, getting a validation accuracy of over 90%."
   ]
  },
  {
   "cell_type": "code",
   "execution_count": 15,
   "metadata": {},
   "outputs": [
    {
     "data": {
      "image/png": "[encoded data removed]",
      "text/plain": [
       "<Figure size 432x288 with 1 Axes>"
      ]
     },
     "metadata": {
      "needs_background": "light"
     },
     "output_type": "display_data"
    }
   ],
   "source": [
    "plt.plot(history1.history['accuracy'], label='train')\n",
    "plt.plot(history1.history['val_accuracy'], label='valid')\n",
    "plt.legend()\n",
    "plt.show()"
   ]
  },
  {
   "cell_type": "code",
   "execution_count": 16,
   "metadata": {},
   "outputs": [
    {
     "data": {
      "image/png": "[encoded data removed]",
      "text/plain": [
       "<Figure size 432x288 with 1 Axes>"
      ]
     },
     "metadata": {
      "needs_background": "light"
     },
     "output_type": "display_data"
    }
   ],
   "source": [
    "plt.plot(history1.history['loss'][2:], label='train')\n",
    "plt.plot(history1.history['val_loss'][2:], label='valid')\n",
    "plt.legend()\n",
    "plt.show()"
   ]
  },
  {
   "cell_type": "markdown",
   "metadata": {},
   "source": [
    "Note that the training error is much higher than validation. While this partly has to do with the fact that the validation error is calculated after an epoch, the gap still indicates that the model is severely underfitting. We will first address this by increasing the model's complexity. Clearly, the resizing to 32x32 causes a lot of data loss and adds bias. We also add an extra set of conv/pooling layers to account for the larger image."
   ]
  },
  {
   "cell_type": "code",
   "execution_count": 17,
   "metadata": {},
   "outputs": [
    {
     "name": "stdout",
     "output_type": "stream",
     "text": [
      "Model: \"sequential_1\"\n",
      "_________________________________________________________________\n",
      "Layer (type)                 Output Shape              Param #   \n",
      "=================================================================\n",
      "reshape_1 (Reshape)          (None, 85, 129, 1)        0         \n",
      "_________________________________________________________________\n",
      "normalization (Normalization multiple                  259       \n",
      "_________________________________________________________________\n",
      "conv2d_2 (Conv2D)            (None, 83, 127, 32)       37184     \n",
      "_________________________________________________________________\n",
      "conv2d_3 (Conv2D)            (None, 81, 125, 64)       18496     \n",
      "_________________________________________________________________\n",
      "max_pooling2d_1 (MaxPooling2 (None, 40, 62, 64)        0         \n",
      "_________________________________________________________________\n",
      "dropout_2 (Dropout)          (None, 40, 62, 64)        0         \n",
      "_________________________________________________________________\n",
      "conv2d_4 (Conv2D)            (None, 40, 62, 32)        2080      \n",
      "_________________________________________________________________\n",
      "conv2d_5 (Conv2D)            (None, 38, 60, 32)        9248      \n",
      "_________________________________________________________________\n",
      "conv2d_6 (Conv2D)            (None, 36, 58, 64)        18496     \n",
      "_________________________________________________________________\n",
      "max_pooling2d_2 (MaxPooling2 (None, 18, 29, 64)        0         \n",
      "_________________________________________________________________\n",
      "dropout_3 (Dropout)          (None, 18, 29, 64)        0         \n",
      "_________________________________________________________________\n",
      "flatten_1 (Flatten)          (None, 33408)             0         \n",
      "_________________________________________________________________\n",
      "dense_2 (Dense)              (None, 128)               4276352   \n",
      "_________________________________________________________________\n",
      "dropout_4 (Dropout)          (None, 128)               0         \n",
      "_________________________________________________________________\n",
      "dense_3 (Dense)              (None, 2)                 258       \n",
      "=================================================================\n",
      "Total params: 4,362,373\n",
      "Trainable params: 4,362,114\n",
      "Non-trainable params: 259\n",
      "_________________________________________________________________\n"
     ]
    }
   ],
   "source": [
    "model2 = tf.keras.models.Sequential([\n",
    "    tf.keras.Input(shape=SPECTROGRAM_SHAPE),\n",
    "    tf.keras.layers.Reshape((SPECTROGRAM_SHAPE[0], SPECTROGRAM_SHAPE[1], 1)),\n",
    "    norm_layer,\n",
    "    tf.keras.layers.Conv2D(32, 3, activation='relu'),\n",
    "    tf.keras.layers.Conv2D(64, 3, activation='relu'),\n",
    "    tf.keras.layers.MaxPooling2D(),\n",
    "    tf.keras.layers.Dropout(0.25),\n",
    "    tf.keras.layers.Conv2D(32, 1, activation='relu'),\n",
    "    tf.keras.layers.Conv2D(32, 3, activation='relu'),\n",
    "    tf.keras.layers.Conv2D(64, 3, activation='relu'),\n",
    "    tf.keras.layers.MaxPooling2D(),\n",
    "    tf.keras.layers.Dropout(0.25),\n",
    "    tf.keras.layers.Flatten(),\n",
    "    tf.keras.layers.Dense(128, activation='relu'),\n",
    "    tf.keras.layers.Dropout(0.5),\n",
    "    tf.keras.layers.Dense(2)\n",
    "])\n",
    "model2.summary()"
   ]
  },
  {
   "cell_type": "code",
   "execution_count": 18,
   "metadata": {},
   "outputs": [],
   "source": [
    "model2.compile(optimizer='adam', loss=tf.keras.losses.SparseCategoricalCrossentropy(from_logits=True), \n",
    "               metrics=['accuracy'])"
   ]
  },
  {
   "cell_type": "code",
   "execution_count": 19,
   "metadata": {},
   "outputs": [
    {
     "name": "stdout",
     "output_type": "stream",
     "text": [
      "Epoch 1/20\n",
      "163/163 [==============================] - 49s 224ms/step - loss: 239.7868 - accuracy: 0.8400 - val_loss: 0.3490 - val_accuracy: 0.8778\n",
      "Epoch 2/20\n",
      "163/163 [==============================] - 20s 120ms/step - loss: 0.2508 - accuracy: 0.9376 - val_loss: 0.1761 - val_accuracy: 0.9349\n",
      "Epoch 3/20\n",
      "163/163 [==============================] - 20s 121ms/step - loss: 0.1760 - accuracy: 0.9479 - val_loss: 0.1745 - val_accuracy: 0.9440\n",
      "Epoch 4/20\n",
      "163/163 [==============================] - 20s 121ms/step - loss: 0.1325 - accuracy: 0.9629 - val_loss: 0.1115 - val_accuracy: 0.9632\n",
      "Epoch 5/20\n",
      "163/163 [==============================] - 20s 121ms/step - loss: 0.1343 - accuracy: 0.9631 - val_loss: 0.1019 - val_accuracy: 0.9656\n",
      "Epoch 6/20\n",
      "163/163 [==============================] - 20s 121ms/step - loss: 0.1053 - accuracy: 0.9693 - val_loss: 0.0812 - val_accuracy: 0.9727\n",
      "Epoch 7/20\n",
      "163/163 [==============================] - 20s 122ms/step - loss: 0.1253 - accuracy: 0.9669 - val_loss: 0.1363 - val_accuracy: 0.9636\n",
      "Epoch 8/20\n",
      "163/163 [==============================] - 20s 122ms/step - loss: 0.1295 - accuracy: 0.9662 - val_loss: 0.1377 - val_accuracy: 0.9639\n"
     ]
    }
   ],
   "source": [
    "history2 = model2.fit(train_dataset, epochs=20, validation_data=valid_dataset, callbacks=tf.keras.callbacks.EarlyStopping(patience=2))"
   ]
  },
  {
   "cell_type": "code",
   "execution_count": 22,
   "metadata": {},
   "outputs": [
    {
     "data": {
      "image/png": "[encoded data removed]",
      "text/plain": [
       "<Figure size 432x288 with 1 Axes>"
      ]
     },
     "metadata": {
      "needs_background": "light"
     },
     "output_type": "display_data"
    }
   ],
   "source": [
    "plt.plot(history2.history['accuracy'], label='train')\n",
    "plt.plot(history2.history['val_accuracy'], label='valid')\n",
    "plt.legend()\n",
    "plt.show()"
   ]
  },
  {
   "cell_type": "markdown",
   "metadata": {},
   "source": [
    "Wow, this did better than I expected."
   ]
  },
  {
   "cell_type": "code",
   "execution_count": 21,
   "metadata": {},
   "outputs": [
    {
     "name": "stdout",
     "output_type": "stream",
     "text": [
      "47/47 [==============================] - 2s 41ms/step - loss: 0.1377 - accuracy: 0.9639\n"
     ]
    },
    {
     "data": {
      "text/plain": [
       "[0.13773751258850098, 0.9638879299163818]"
      ]
     },
     "execution_count": 21,
     "metadata": {},
     "output_type": "execute_result"
    }
   ],
   "source": [
    "model2.evaluate(valid_dataset)"
   ]
  },
  {
   "cell_type": "markdown",
   "metadata": {},
   "source": [
    "# Model size reduction"
   ]
  },
  {
   "cell_type": "markdown",
   "metadata": {},
   "source": [
    "Right now, the model size is a bit too large, with 4 million parameters. It also takes 2 seconds to evaluate a batch - since each batch is worth 8 seconds of audio, this may become a significant bottleneck for realtime conversion of streamed data. We can reduce the number of parameters by increasing the pooling size."
   ]
  },
  {
   "cell_type": "code",
   "execution_count": 23,
   "metadata": {},
   "outputs": [
    {
     "name": "stdout",
     "output_type": "stream",
     "text": [
      "Model: \"sequential_2\"\n",
      "_________________________________________________________________\n",
      "Layer (type)                 Output Shape              Param #   \n",
      "=================================================================\n",
      "reshape_2 (Reshape)          (None, 85, 129, 1)        0         \n",
      "_________________________________________________________________\n",
      "normalization (Normalization multiple                  259       \n",
      "_________________________________________________________________\n",
      "conv2d_7 (Conv2D)            (None, 83, 127, 32)       37184     \n",
      "_________________________________________________________________\n",
      "conv2d_8 (Conv2D)            (None, 81, 125, 64)       18496     \n",
      "_________________________________________________________________\n",
      "max_pooling2d_3 (MaxPooling2 (None, 27, 41, 64)        0         \n",
      "_________________________________________________________________\n",
      "dropout_5 (Dropout)          (None, 27, 41, 64)        0         \n",
      "_________________________________________________________________\n",
      "conv2d_9 (Conv2D)            (None, 27, 41, 32)        2080      \n",
      "_________________________________________________________________\n",
      "conv2d_10 (Conv2D)           (None, 25, 39, 32)        9248      \n",
      "_________________________________________________________________\n",
      "conv2d_11 (Conv2D)           (None, 23, 37, 64)        18496     \n",
      "_________________________________________________________________\n",
      "max_pooling2d_4 (MaxPooling2 (None, 7, 12, 64)         0         \n",
      "_________________________________________________________________\n",
      "dropout_6 (Dropout)          (None, 7, 12, 64)         0         \n",
      "_________________________________________________________________\n",
      "flatten_2 (Flatten)          (None, 5376)              0         \n",
      "_________________________________________________________________\n",
      "dense_4 (Dense)              (None, 128)               688256    \n",
      "_________________________________________________________________\n",
      "dropout_7 (Dropout)          (None, 128)               0         \n",
      "_________________________________________________________________\n",
      "dense_5 (Dense)              (None, 2)                 258       \n",
      "=================================================================\n",
      "Total params: 774,277\n",
      "Trainable params: 774,018\n",
      "Non-trainable params: 259\n",
      "_________________________________________________________________\n"
     ]
    }
   ],
   "source": [
    "model3 = tf.keras.models.Sequential([\n",
    "    tf.keras.Input(shape=SPECTROGRAM_SHAPE),\n",
    "    tf.keras.layers.Reshape((SPECTROGRAM_SHAPE[0], SPECTROGRAM_SHAPE[1], 1)),\n",
    "    norm_layer,\n",
    "    tf.keras.layers.Conv2D(32, 3, activation='relu'),\n",
    "    tf.keras.layers.Conv2D(64, 3, activation='relu'),\n",
    "    tf.keras.layers.MaxPooling2D(3),\n",
    "    tf.keras.layers.Dropout(0.25),\n",
    "    tf.keras.layers.Conv2D(32, 1, activation='relu'),\n",
    "    tf.keras.layers.Conv2D(32, 3, activation='relu'),\n",
    "    tf.keras.layers.Conv2D(64, 3, activation='relu'),\n",
    "    tf.keras.layers.MaxPooling2D(3),\n",
    "    tf.keras.layers.Dropout(0.25),\n",
    "    tf.keras.layers.Flatten(),\n",
    "    tf.keras.layers.Dense(128, activation='relu'),\n",
    "    tf.keras.layers.Dropout(0.5),\n",
    "    tf.keras.layers.Dense(2)\n",
    "])\n",
    "model3.summary()"
   ]
  },
  {
   "cell_type": "code",
   "execution_count": 24,
   "metadata": {},
   "outputs": [],
   "source": [
    "model3.compile(optimizer='adam', loss=tf.keras.losses.SparseCategoricalCrossentropy(from_logits=True), \n",
    "               metrics=['accuracy'])"
   ]
  },
  {
   "cell_type": "code",
   "execution_count": 25,
   "metadata": {},
   "outputs": [
    {
     "name": "stdout",
     "output_type": "stream",
     "text": [
      "Epoch 1/20\n",
      "163/163 [==============================] - 36s 170ms/step - loss: 62.9791 - accuracy: 0.8411 - val_loss: 0.2315 - val_accuracy: 0.9237\n",
      "Epoch 2/20\n",
      "163/163 [==============================] - 17s 107ms/step - loss: 0.2590 - accuracy: 0.9261 - val_loss: 0.2106 - val_accuracy: 0.9281\n",
      "Epoch 3/20\n",
      "163/163 [==============================] - 17s 107ms/step - loss: 0.2152 - accuracy: 0.9334 - val_loss: 0.1549 - val_accuracy: 0.9531\n",
      "Epoch 4/20\n",
      "163/163 [==============================] - 17s 107ms/step - loss: 0.1811 - accuracy: 0.9480 - val_loss: 0.1454 - val_accuracy: 0.9558\n",
      "Epoch 5/20\n",
      "163/163 [==============================] - 17s 107ms/step - loss: 0.1643 - accuracy: 0.9527 - val_loss: 0.1678 - val_accuracy: 0.9396\n",
      "Epoch 6/20\n",
      "163/163 [==============================] - 17s 107ms/step - loss: 0.1636 - accuracy: 0.9492 - val_loss: 0.1431 - val_accuracy: 0.9571\n",
      "Epoch 7/20\n",
      "163/163 [==============================] - 17s 107ms/step - loss: 0.1573 - accuracy: 0.9506 - val_loss: 0.1440 - val_accuracy: 0.9568\n",
      "Epoch 8/20\n",
      "163/163 [==============================] - 17s 107ms/step - loss: 0.1478 - accuracy: 0.9549 - val_loss: 0.1415 - val_accuracy: 0.9568\n",
      "Epoch 9/20\n",
      "163/163 [==============================] - 17s 107ms/step - loss: 0.1550 - accuracy: 0.9527 - val_loss: 0.1294 - val_accuracy: 0.9575\n",
      "Epoch 10/20\n",
      "163/163 [==============================] - 17s 107ms/step - loss: 0.1470 - accuracy: 0.9530 - val_loss: 0.1296 - val_accuracy: 0.9625\n",
      "Epoch 11/20\n",
      "163/163 [==============================] - 17s 107ms/step - loss: 0.1292 - accuracy: 0.9582 - val_loss: 0.1152 - val_accuracy: 0.9646\n",
      "Epoch 12/20\n",
      "163/163 [==============================] - 18s 108ms/step - loss: 0.1350 - accuracy: 0.9598 - val_loss: 0.1229 - val_accuracy: 0.9642\n",
      "Epoch 13/20\n",
      "163/163 [==============================] - 18s 108ms/step - loss: 0.1254 - accuracy: 0.9602 - val_loss: 0.1240 - val_accuracy: 0.9629\n"
     ]
    }
   ],
   "source": [
    "history3 = model3.fit(train_dataset, epochs=20, validation_data=valid_dataset, callbacks=tf.keras.callbacks.EarlyStopping(patience=2))"
   ]
  },
  {
   "cell_type": "markdown",
   "metadata": {},
   "source": [
    "While this did not decrease the performance, it also did not resolve its slowness problem by much. Indeed, it looks like the bottleneck is the size of the convolution layers. "
   ]
  },
  {
   "cell_type": "code",
   "execution_count": 26,
   "metadata": {},
   "outputs": [
    {
     "name": "stdout",
     "output_type": "stream",
     "text": [
      "Model: \"sequential_3\"\n",
      "_________________________________________________________________\n",
      "Layer (type)                 Output Shape              Param #   \n",
      "=================================================================\n",
      "reshape_3 (Reshape)          (None, 85, 129, 1)        0         \n",
      "_________________________________________________________________\n",
      "normalization (Normalization multiple                  259       \n",
      "_________________________________________________________________\n",
      "conv2d_12 (Conv2D)           (None, 83, 127, 8)        9296      \n",
      "_________________________________________________________________\n",
      "conv2d_13 (Conv2D)           (None, 81, 125, 16)       1168      \n",
      "_________________________________________________________________\n",
      "max_pooling2d_5 (MaxPooling2 (None, 27, 41, 16)        0         \n",
      "_________________________________________________________________\n",
      "dropout_8 (Dropout)          (None, 27, 41, 16)        0         \n",
      "_________________________________________________________________\n",
      "conv2d_14 (Conv2D)           (None, 25, 39, 32)        4640      \n",
      "_________________________________________________________________\n",
      "conv2d_15 (Conv2D)           (None, 23, 37, 64)        18496     \n",
      "_________________________________________________________________\n",
      "max_pooling2d_6 (MaxPooling2 (None, 7, 12, 64)         0         \n",
      "_________________________________________________________________\n",
      "dropout_9 (Dropout)          (None, 7, 12, 64)         0         \n",
      "_________________________________________________________________\n",
      "flatten_3 (Flatten)          (None, 5376)              0         \n",
      "_________________________________________________________________\n",
      "dense_6 (Dense)              (None, 128)               688256    \n",
      "_________________________________________________________________\n",
      "dropout_10 (Dropout)         (None, 128)               0         \n",
      "_________________________________________________________________\n",
      "dense_7 (Dense)              (None, 2)                 258       \n",
      "=================================================================\n",
      "Total params: 722,373\n",
      "Trainable params: 722,114\n",
      "Non-trainable params: 259\n",
      "_________________________________________________________________\n"
     ]
    }
   ],
   "source": [
    "model4 = tf.keras.models.Sequential([\n",
    "    tf.keras.Input(shape=SPECTROGRAM_SHAPE),\n",
    "    tf.keras.layers.Reshape((SPECTROGRAM_SHAPE[0], SPECTROGRAM_SHAPE[1], 1)),\n",
    "    norm_layer,\n",
    "    tf.keras.layers.Conv2D(8, 3, activation='relu'),\n",
    "    tf.keras.layers.Conv2D(16, 3, activation='relu'),\n",
    "    tf.keras.layers.MaxPooling2D(3),\n",
    "    tf.keras.layers.Dropout(0.25),\n",
    "    tf.keras.layers.Conv2D(32, 3, activation='relu'),\n",
    "    tf.keras.layers.Conv2D(64, 3, activation='relu'),\n",
    "    tf.keras.layers.MaxPooling2D(3),\n",
    "    tf.keras.layers.Dropout(0.25),\n",
    "    tf.keras.layers.Flatten(),\n",
    "    tf.keras.layers.Dense(128, activation='relu'),\n",
    "    tf.keras.layers.Dropout(0.5),\n",
    "    tf.keras.layers.Dense(2)\n",
    "])\n",
    "model4.summary()"
   ]
  },
  {
   "cell_type": "code",
   "execution_count": 27,
   "metadata": {},
   "outputs": [],
   "source": [
    "model4.compile(optimizer='adam', loss=tf.keras.losses.SparseCategoricalCrossentropy(from_logits=True), \n",
    "               metrics=['accuracy'])"
   ]
  },
  {
   "cell_type": "code",
   "execution_count": 28,
   "metadata": {},
   "outputs": [
    {
     "name": "stdout",
     "output_type": "stream",
     "text": [
      "Epoch 1/20\n",
      "163/163 [==============================] - 31s 139ms/step - loss: 118.5807 - accuracy: 0.7416 - val_loss: 0.5163 - val_accuracy: 0.7776\n",
      "Epoch 2/20\n",
      "163/163 [==============================] - 12s 74ms/step - loss: 0.4689 - accuracy: 0.7938 - val_loss: 0.3709 - val_accuracy: 0.8680\n",
      "Epoch 3/20\n",
      "163/163 [==============================] - 12s 74ms/step - loss: 0.3655 - accuracy: 0.8425 - val_loss: 0.3414 - val_accuracy: 0.8633\n",
      "Epoch 4/20\n",
      "163/163 [==============================] - 12s 74ms/step - loss: 0.3411 - accuracy: 0.8449 - val_loss: 0.3275 - val_accuracy: 0.8657\n",
      "Epoch 5/20\n",
      "163/163 [==============================] - 12s 74ms/step - loss: 0.3287 - accuracy: 0.8518 - val_loss: 0.3166 - val_accuracy: 0.8741\n",
      "Epoch 6/20\n",
      "163/163 [==============================] - 12s 74ms/step - loss: 0.3205 - accuracy: 0.8610 - val_loss: 0.3056 - val_accuracy: 0.8704\n",
      "Epoch 7/20\n",
      "163/163 [==============================] - 12s 74ms/step - loss: 0.3226 - accuracy: 0.8619 - val_loss: 0.3013 - val_accuracy: 0.8724\n",
      "Epoch 8/20\n",
      "163/163 [==============================] - 12s 74ms/step - loss: 0.3129 - accuracy: 0.8673 - val_loss: 0.3005 - val_accuracy: 0.8704\n",
      "Epoch 9/20\n",
      "163/163 [==============================] - 12s 74ms/step - loss: 0.3051 - accuracy: 0.8709 - val_loss: 0.3020 - val_accuracy: 0.8751\n",
      "Epoch 10/20\n",
      "163/163 [==============================] - 12s 74ms/step - loss: 0.3045 - accuracy: 0.8732 - val_loss: 0.2931 - val_accuracy: 0.8805\n",
      "Epoch 11/20\n",
      "163/163 [==============================] - 12s 74ms/step - loss: 0.3004 - accuracy: 0.8776 - val_loss: 0.2855 - val_accuracy: 0.8829\n",
      "Epoch 12/20\n",
      "163/163 [==============================] - 12s 74ms/step - loss: 0.2937 - accuracy: 0.8766 - val_loss: 0.2765 - val_accuracy: 0.8859\n",
      "Epoch 13/20\n",
      "163/163 [==============================] - 12s 74ms/step - loss: 0.2868 - accuracy: 0.8793 - val_loss: 0.2735 - val_accuracy: 0.8896\n",
      "Epoch 14/20\n",
      "163/163 [==============================] - 12s 74ms/step - loss: 0.2780 - accuracy: 0.8836 - val_loss: 0.2581 - val_accuracy: 0.8934 loss: - ETA: 0s - loss: 0.278\n",
      "Epoch 15/20\n",
      "163/163 [==============================] - 12s 74ms/step - loss: 0.2664 - accuracy: 0.8881 - val_loss: 0.2530 - val_accuracy: 0.8971\n",
      "Epoch 16/20\n",
      "163/163 [==============================] - 12s 74ms/step - loss: 0.2622 - accuracy: 0.8903 - val_loss: 0.2532 - val_accuracy: 0.8994\n",
      "Epoch 17/20\n",
      "163/163 [==============================] - 12s 74ms/step - loss: 0.2532 - accuracy: 0.8974 - val_loss: 0.2368 - val_accuracy: 0.9052\n",
      "Epoch 18/20\n",
      "163/163 [==============================] - 12s 74ms/step - loss: 0.2465 - accuracy: 0.9009 - val_loss: 0.2293 - val_accuracy: 0.9099\n",
      "Epoch 19/20\n",
      "163/163 [==============================] - 12s 74ms/step - loss: 0.2390 - accuracy: 0.9038 - val_loss: 0.2300 - val_accuracy: 0.9089\n",
      "Epoch 20/20\n",
      "163/163 [==============================] - 12s 74ms/step - loss: 0.2310 - accuracy: 0.9025 - val_loss: 0.2152 - val_accuracy: 0.9136\n"
     ]
    }
   ],
   "source": [
    "history4 = model4.fit(train_dataset, epochs=20, validation_data=valid_dataset, callbacks=tf.keras.callbacks.EarlyStopping(patience=2))"
   ]
  },
  {
   "cell_type": "markdown",
   "metadata": {},
   "source": [
    "Sadly, while this improves efficiency it falls short on performance."
   ]
  },
  {
   "cell_type": "markdown",
   "metadata": {},
   "source": [
    "# Final model"
   ]
  },
  {
   "cell_type": "code",
   "execution_count": 39,
   "metadata": {},
   "outputs": [
    {
     "name": "stdout",
     "output_type": "stream",
     "text": [
      "Model: \"sequential_7\"\n",
      "_________________________________________________________________\n",
      "Layer (type)                 Output Shape              Param #   \n",
      "=================================================================\n",
      "reshape_7 (Reshape)          (None, 85, 129, 1)        0         \n",
      "_________________________________________________________________\n",
      "normalization (Normalization multiple                  259       \n",
      "_________________________________________________________________\n",
      "conv2d_31 (Conv2D)           (None, 83, 127, 32)       37184     \n",
      "_________________________________________________________________\n",
      "conv2d_32 (Conv2D)           (None, 81, 125, 64)       18496     \n",
      "_________________________________________________________________\n",
      "max_pooling2d_13 (MaxPooling (None, 27, 41, 64)        0         \n",
      "_________________________________________________________________\n",
      "dropout_20 (Dropout)         (None, 27, 41, 64)        0         \n",
      "_________________________________________________________________\n",
      "conv2d_33 (Conv2D)           (None, 27, 41, 32)        2080      \n",
      "_________________________________________________________________\n",
      "conv2d_34 (Conv2D)           (None, 25, 39, 32)        9248      \n",
      "_________________________________________________________________\n",
      "conv2d_35 (Conv2D)           (None, 23, 37, 64)        18496     \n",
      "_________________________________________________________________\n",
      "max_pooling2d_14 (MaxPooling (None, 7, 12, 64)         0         \n",
      "_________________________________________________________________\n",
      "dropout_21 (Dropout)         (None, 7, 12, 64)         0         \n",
      "_________________________________________________________________\n",
      "flatten_7 (Flatten)          (None, 5376)              0         \n",
      "_________________________________________________________________\n",
      "dense_14 (Dense)             (None, 128)               688256    \n",
      "_________________________________________________________________\n",
      "dropout_22 (Dropout)         (None, 128)               0         \n",
      "_________________________________________________________________\n",
      "dense_15 (Dense)             (None, 2)                 258       \n",
      "=================================================================\n",
      "Total params: 774,277\n",
      "Trainable params: 774,018\n",
      "Non-trainable params: 259\n",
      "_________________________________________________________________\n"
     ]
    }
   ],
   "source": [
    "model = tf.keras.models.Sequential([\n",
    "    tf.keras.Input(shape=SPECTROGRAM_SHAPE),\n",
    "    tf.keras.layers.Reshape((SPECTROGRAM_SHAPE[0], SPECTROGRAM_SHAPE[1], 1)),\n",
    "    norm_layer,\n",
    "    tf.keras.layers.Conv2D(32, 3, activation='relu'),\n",
    "    tf.keras.layers.Conv2D(64, 3, activation='relu'),\n",
    "    tf.keras.layers.MaxPooling2D(3),\n",
    "    tf.keras.layers.Dropout(0.25),\n",
    "    tf.keras.layers.Conv2D(32, 1, activation='relu'),\n",
    "    tf.keras.layers.Conv2D(32, 3, activation='relu'),\n",
    "    tf.keras.layers.Conv2D(64, 3, activation='relu'),\n",
    "    tf.keras.layers.MaxPooling2D(3),\n",
    "    tf.keras.layers.Dropout(0.25),\n",
    "    tf.keras.layers.Flatten(),\n",
    "    tf.keras.layers.Dense(128, activation='relu'),\n",
    "    tf.keras.layers.Dropout(0.5),\n",
    "    tf.keras.layers.Dense(2)\n",
    "])\n",
    "model.summary()"
   ]
  },
  {
   "cell_type": "code",
   "execution_count": 40,
   "metadata": {},
   "outputs": [],
   "source": [
    "model.compile(optimizer='adam', loss=tf.keras.losses.SparseCategoricalCrossentropy(from_logits=True), \n",
    "               metrics=['accuracy'])"
   ]
  },
  {
   "cell_type": "code",
   "execution_count": 41,
   "metadata": {},
   "outputs": [
    {
     "name": "stdout",
     "output_type": "stream",
     "text": [
      "Epoch 1/50\n",
      "163/163 [==============================] - 19s 110ms/step - loss: 98.6932 - accuracy: 0.8169 - val_loss: 0.3526 - val_accuracy: 0.8336\n",
      "INFO:tensorflow:Assets written to: model/assets\n",
      "Epoch 2/50\n",
      "163/163 [==============================] - 18s 108ms/step - loss: 0.3490 - accuracy: 0.8837 - val_loss: 0.3461 - val_accuracy: 0.8934\n",
      "INFO:tensorflow:Assets written to: model/assets\n",
      "Epoch 3/50\n",
      "163/163 [==============================] - 18s 108ms/step - loss: 0.2731 - accuracy: 0.9063 - val_loss: 0.1965 - val_accuracy: 0.9349\n",
      "INFO:tensorflow:Assets written to: model/assets\n",
      "Epoch 4/50\n",
      "163/163 [==============================] - 18s 108ms/step - loss: 0.2090 - accuracy: 0.9304 - val_loss: 0.2589 - val_accuracy: 0.9065\n",
      "Epoch 5/50\n",
      "163/163 [==============================] - 18s 108ms/step - loss: 0.1778 - accuracy: 0.9422 - val_loss: 0.1511 - val_accuracy: 0.9514\n",
      "INFO:tensorflow:Assets written to: model/assets\n",
      "Epoch 6/50\n",
      "163/163 [==============================] - 18s 108ms/step - loss: 0.1596 - accuracy: 0.9567 - val_loss: 0.1349 - val_accuracy: 0.9463\n",
      "Epoch 7/50\n",
      "163/163 [==============================] - 18s 108ms/step - loss: 0.1291 - accuracy: 0.9585 - val_loss: 0.0835 - val_accuracy: 0.9673\n",
      "INFO:tensorflow:Assets written to: model/assets\n",
      "Epoch 8/50\n",
      "163/163 [==============================] - 18s 108ms/step - loss: 0.1185 - accuracy: 0.9654 - val_loss: 0.2829 - val_accuracy: 0.9204\n",
      "Epoch 9/50\n",
      "163/163 [==============================] - 18s 108ms/step - loss: 0.1152 - accuracy: 0.9612 - val_loss: 0.0689 - val_accuracy: 0.9750\n",
      "INFO:tensorflow:Assets written to: model/assets\n",
      "Epoch 10/50\n",
      "163/163 [==============================] - 18s 108ms/step - loss: 0.0986 - accuracy: 0.9715 - val_loss: 0.0895 - val_accuracy: 0.9669\n",
      "Epoch 11/50\n",
      "163/163 [==============================] - 18s 108ms/step - loss: 0.0959 - accuracy: 0.9692 - val_loss: 0.0486 - val_accuracy: 0.9838\n",
      "INFO:tensorflow:Assets written to: model/assets\n",
      "Epoch 12/50\n",
      "163/163 [==============================] - 18s 108ms/step - loss: 0.1235 - accuracy: 0.9659 - val_loss: 0.1939 - val_accuracy: 0.9393\n",
      "Epoch 13/50\n",
      "163/163 [==============================] - 18s 108ms/step - loss: 0.0912 - accuracy: 0.9690 - val_loss: 0.0850 - val_accuracy: 0.9625\n",
      "Epoch 14/50\n",
      "163/163 [==============================] - 18s 108ms/step - loss: 0.0926 - accuracy: 0.9685 - val_loss: 0.0841 - val_accuracy: 0.9706\n",
      "Epoch 15/50\n",
      "163/163 [==============================] - 18s 109ms/step - loss: 0.0942 - accuracy: 0.9691 - val_loss: 0.0554 - val_accuracy: 0.9821\n",
      "Epoch 16/50\n",
      "163/163 [==============================] - 18s 108ms/step - loss: 0.0800 - accuracy: 0.9768 - val_loss: 0.0680 - val_accuracy: 0.9821\n",
      "Epoch 17/50\n",
      "163/163 [==============================] - 18s 108ms/step - loss: 0.0782 - accuracy: 0.9779 - val_loss: 0.0491 - val_accuracy: 0.9852\n",
      "INFO:tensorflow:Assets written to: model/assets\n",
      "Epoch 18/50\n",
      "163/163 [==============================] - 18s 109ms/step - loss: 0.0736 - accuracy: 0.9785 - val_loss: 0.0527 - val_accuracy: 0.9804\n",
      "Epoch 19/50\n",
      "163/163 [==============================] - 18s 108ms/step - loss: 0.0788 - accuracy: 0.9765 - val_loss: 0.0414 - val_accuracy: 0.9848\n",
      "Epoch 20/50\n",
      "163/163 [==============================] - 18s 108ms/step - loss: 0.1056 - accuracy: 0.9673 - val_loss: 0.1061 - val_accuracy: 0.9679\n",
      "Epoch 21/50\n",
      "163/163 [==============================] - 18s 108ms/step - loss: 0.1189 - accuracy: 0.9671 - val_loss: 0.1534 - val_accuracy: 0.9528\n",
      "Epoch 22/50\n",
      "163/163 [==============================] - 18s 108ms/step - loss: 0.2019 - accuracy: 0.9436 - val_loss: 0.0444 - val_accuracy: 0.9865\n",
      "INFO:tensorflow:Assets written to: model/assets\n",
      "Epoch 23/50\n",
      "163/163 [==============================] - 18s 108ms/step - loss: 0.0771 - accuracy: 0.9773 - val_loss: 0.0375 - val_accuracy: 0.9882\n",
      "INFO:tensorflow:Assets written to: model/assets\n",
      "Epoch 24/50\n",
      "163/163 [==============================] - 18s 108ms/step - loss: 0.0939 - accuracy: 0.9723 - val_loss: 0.0628 - val_accuracy: 0.9764\n",
      "Epoch 25/50\n",
      "163/163 [==============================] - 18s 108ms/step - loss: 0.1035 - accuracy: 0.9651 - val_loss: 0.1049 - val_accuracy: 0.9690\n",
      "Epoch 26/50\n",
      "163/163 [==============================] - 18s 108ms/step - loss: 0.1428 - accuracy: 0.9577 - val_loss: 0.0839 - val_accuracy: 0.9771\n",
      "Epoch 27/50\n",
      "163/163 [==============================] - 18s 108ms/step - loss: 0.1754 - accuracy: 0.9422 - val_loss: 0.0401 - val_accuracy: 0.9899\n",
      "INFO:tensorflow:Assets written to: model/assets\n",
      "Epoch 28/50\n",
      "163/163 [==============================] - 18s 108ms/step - loss: 0.1391 - accuracy: 0.9697 - val_loss: 0.1163 - val_accuracy: 0.9544\n",
      "Epoch 29/50\n",
      "163/163 [==============================] - 18s 108ms/step - loss: 0.2032 - accuracy: 0.9297 - val_loss: 0.0462 - val_accuracy: 0.9852\n",
      "Epoch 30/50\n",
      "163/163 [==============================] - 18s 108ms/step - loss: 0.0927 - accuracy: 0.9717 - val_loss: 0.1103 - val_accuracy: 0.9740\n",
      "Epoch 31/50\n",
      "163/163 [==============================] - 18s 108ms/step - loss: 0.1055 - accuracy: 0.9676 - val_loss: 0.0810 - val_accuracy: 0.9744\n",
      "Epoch 32/50\n",
      "163/163 [==============================] - 18s 108ms/step - loss: 0.1032 - accuracy: 0.9714 - val_loss: 0.0531 - val_accuracy: 0.9814\n",
      "Epoch 33/50\n",
      "163/163 [==============================] - 18s 108ms/step - loss: 0.0658 - accuracy: 0.9816 - val_loss: 0.0539 - val_accuracy: 0.9892\n",
      "Epoch 34/50\n",
      "163/163 [==============================] - 18s 108ms/step - loss: 0.0596 - accuracy: 0.9813 - val_loss: 0.0278 - val_accuracy: 0.9895\n",
      "Epoch 35/50\n",
      "163/163 [==============================] - 18s 108ms/step - loss: 0.0538 - accuracy: 0.9835 - val_loss: 0.0310 - val_accuracy: 0.9885\n",
      "Epoch 36/50\n",
      "163/163 [==============================] - 18s 108ms/step - loss: 0.0550 - accuracy: 0.9831 - val_loss: 0.0363 - val_accuracy: 0.9868\n",
      "Epoch 37/50\n",
      "163/163 [==============================] - 18s 108ms/step - loss: 0.0739 - accuracy: 0.9757 - val_loss: 0.0292 - val_accuracy: 0.9899\n",
      "Epoch 38/50\n",
      "163/163 [==============================] - 18s 108ms/step - loss: 0.0580 - accuracy: 0.9806 - val_loss: 0.0243 - val_accuracy: 0.9912\n",
      "INFO:tensorflow:Assets written to: model/assets\n",
      "Epoch 39/50\n",
      "163/163 [==============================] - 18s 108ms/step - loss: 0.0542 - accuracy: 0.9842 - val_loss: 0.0298 - val_accuracy: 0.9916\n",
      "INFO:tensorflow:Assets written to: model/assets\n",
      "Epoch 40/50\n",
      "163/163 [==============================] - 18s 108ms/step - loss: 0.0587 - accuracy: 0.9801 - val_loss: 0.0433 - val_accuracy: 0.9845\n",
      "Epoch 41/50\n",
      "163/163 [==============================] - 18s 108ms/step - loss: 0.0762 - accuracy: 0.9792 - val_loss: 0.0416 - val_accuracy: 0.9828\n",
      "Epoch 42/50\n",
      "163/163 [==============================] - 18s 108ms/step - loss: 0.0566 - accuracy: 0.9825 - val_loss: 0.0229 - val_accuracy: 0.9916\n",
      "Epoch 43/50\n",
      "163/163 [==============================] - 18s 108ms/step - loss: 0.0633 - accuracy: 0.9811 - val_loss: 0.1155 - val_accuracy: 0.9585\n",
      "Epoch 44/50\n",
      "163/163 [==============================] - 18s 108ms/step - loss: 0.3113 - accuracy: 0.8964 - val_loss: 0.3273 - val_accuracy: 0.9406\n",
      "Epoch 45/50\n",
      "163/163 [==============================] - 18s 108ms/step - loss: 0.1848 - accuracy: 0.9552 - val_loss: 0.0461 - val_accuracy: 0.9835\n",
      "Epoch 46/50\n",
      "163/163 [==============================] - 18s 108ms/step - loss: 0.0806 - accuracy: 0.9726 - val_loss: 0.0294 - val_accuracy: 0.9899\n",
      "Epoch 47/50\n",
      "163/163 [==============================] - 18s 108ms/step - loss: 0.0590 - accuracy: 0.9807 - val_loss: 0.0483 - val_accuracy: 0.9821\n",
      "Epoch 48/50\n",
      "163/163 [==============================] - 18s 108ms/step - loss: 0.0728 - accuracy: 0.9793 - val_loss: 0.0421 - val_accuracy: 0.9865\n",
      "Epoch 49/50\n",
      "163/163 [==============================] - 18s 108ms/step - loss: 0.0590 - accuracy: 0.9848 - val_loss: 0.0491 - val_accuracy: 0.9875\n",
      "Epoch 50/50\n",
      "163/163 [==============================] - 18s 108ms/step - loss: 0.0715 - accuracy: 0.9805 - val_loss: 0.4326 - val_accuracy: 0.9494\n"
     ]
    }
   ],
   "source": [
    "history = model.fit(train_dataset, epochs=50, validation_data=valid_dataset, \n",
    "                    callbacks=tf.keras.callbacks.ModelCheckpoint(filepath='model', monitor='val_accuracy', mode='max', save_best_only=True))"
   ]
  },
  {
   "cell_type": "code",
   "execution_count": 42,
   "metadata": {},
   "outputs": [],
   "source": [
    "saved_model = tf.keras.models.load_model('model')"
   ]
  },
  {
   "cell_type": "code",
   "execution_count": 51,
   "metadata": {},
   "outputs": [
    {
     "name": "stdout",
     "output_type": "stream",
     "text": [
      "24/24 [==============================] - 6s 263ms/step - loss: 0.0321 - accuracy: 0.9899\n"
     ]
    },
    {
     "data": {
      "text/plain": [
       "[0.03211598098278046, 0.9898785352706909]"
      ]
     },
     "execution_count": 51,
     "metadata": {},
     "output_type": "execute_result"
    }
   ],
   "source": [
    "saved_model.evaluate(test_dataset)"
   ]
  },
  {
   "cell_type": "markdown",
   "metadata": {},
   "source": [
    "Since training is highly stochastic, we had to retrain the model several times to achieve this (only checking the validation results). The model acheives almost 99% on the test set, which is pretty nice!"
   ]
  },
  {
   "cell_type": "code",
   "execution_count": null,
   "metadata": {},
   "outputs": [],
   "source": []
  }
 ],
 "metadata": {
  "kernelspec": {
   "display_name": "Python 3",
   "language": "python",
   "name": "python3"
  },
  "language_info": {
   "codemirror_mode": {
    "name": "ipython",
    "version": 3
   },
   "file_extension": ".py",
   "mimetype": "text/x-python",
   "name": "python",
   "nbconvert_exporter": "python",
   "pygments_lexer": "ipython3",
   "version": "3.8.5"
  }
 },
 "nbformat": 4,
 "nbformat_minor": 4
}
