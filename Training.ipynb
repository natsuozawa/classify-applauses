{
 "cells": [
  {
   "cell_type": "code",
   "execution_count": 1,
   "metadata": {},
   "outputs": [],
   "source": [
    "import numpy as np\n",
    "import tensorflow as tf\n",
    "\n",
    "import os"
   ]
  },
  {
   "cell_type": "code",
   "execution_count": 38,
   "metadata": {},
   "outputs": [],
   "source": [
    "SPECTROGRAM_TRAIN_TFRECORD_FILENAME = \"spectrogram_train.tfrecord\"\n",
    "SPECTROGRAM_VALID_TFRECORD_FILENAME = \"spectrogram_valid.tfrecord\"\n",
    "DATA_DIR = \"data\"\n",
    "BUFFER_SIZE = 64\n",
    "BATCH_SIZE = 64\n",
    "SPECTROGRAM_SHAPE = (85, 129)"
   ]
  },
  {
   "cell_type": "markdown",
   "metadata": {},
   "source": [
    "# Load Record"
   ]
  },
  {
   "cell_type": "code",
   "execution_count": 49,
   "metadata": {},
   "outputs": [],
   "source": [
    "train_dataset = tf.data.TFRecordDataset([os.path.join(DATA_DIR, SPECTROGRAM_TRAIN_TFRECORD_FILENAME)])\n",
    "valid_dataset = tf.data.TFRecordDataset([os.path.join(DATA_DIR, SPECTROGRAM_VALID_TFRECORD_FILENAME)])"
   ]
  },
  {
   "cell_type": "code",
   "execution_count": 50,
   "metadata": {},
   "outputs": [],
   "source": [
    "feature_description = {\n",
    "    'spectrogram': tf.io.FixedLenFeature([], tf.string, default_value=''),\n",
    "    'label': tf.io.FixedLenFeature([], tf.float32, default_value=0.0)\n",
    "}\n",
    "\n",
    "def _parse_function(example_proto):\n",
    "    example = tf.io.parse_single_example(example_proto, feature_description)\n",
    "    spectrogram = tf.io.parse_tensor(example['spectrogram'], out_type=tf.float32)\n",
    "    spectrogram = tf.ensure_shape(spectrogram, SPECTROGRAM_SHAPE)\n",
    "    label = tf.ensure_shape(example['label'], ())\n",
    "    return spectrogram, label"
   ]
  },
  {
   "cell_type": "code",
   "execution_count": 51,
   "metadata": {},
   "outputs": [],
   "source": [
    "train_dataset = train_dataset.map(_parse_function)\n",
    "valid_dataset = valid_dataset.map(_parse_function)"
   ]
  },
  {
   "cell_type": "code",
   "execution_count": 52,
   "metadata": {
    "scrolled": true
   },
   "outputs": [
    {
     "name": "stdout",
     "output_type": "stream",
     "text": [
      "(<tf.Tensor: shape=(85, 129), dtype=float32, numpy=\n",
      "array([[5.50424635e-01, 3.23084682e-01, 7.39609897e-01, ...,\n",
      "        8.44748065e-05, 1.00848323e-04, 7.20620155e-05],\n",
      "       [8.08760464e-01, 5.43129921e-01, 9.12065446e-01, ...,\n",
      "        4.87966863e-05, 6.39859863e-05, 1.21831894e-04],\n",
      "       [4.52644348e-01, 1.53675258e+00, 5.54100394e-01, ...,\n",
      "        2.00303148e-05, 2.59448389e-05, 7.03334808e-05],\n",
      "       ...,\n",
      "       [6.99571013e-01, 8.03465366e-01, 7.09879398e-01, ...,\n",
      "        7.33799025e-05, 7.61434203e-05, 9.62615013e-06],\n",
      "       [3.28246504e-03, 1.66637897e+00, 2.48969793e+00, ...,\n",
      "        1.12396221e-04, 1.19734090e-04, 1.23858452e-04],\n",
      "       [1.18247461e+00, 2.05399251e+00, 1.59880507e+00, ...,\n",
      "        8.77474740e-05, 2.21014307e-05, 2.74181366e-05]], dtype=float32)>, <tf.Tensor: shape=(), dtype=float32, numpy=0.0>)\n"
     ]
    }
   ],
   "source": [
    "for i in train_dataset.take(1):\n",
    "    print(i)"
   ]
  },
  {
   "cell_type": "markdown",
   "metadata": {},
   "source": [
    "# Preparation"
   ]
  },
  {
   "cell_type": "code",
   "execution_count": 53,
   "metadata": {},
   "outputs": [],
   "source": [
    "train_dataset = train_dataset.batch(BATCH_SIZE).prefetch(BUFFER_SIZE).cache()\n",
    "valid_dataset = valid_dataset.batch(BATCH_SIZE).prefetch(BUFFER_SIZE).cache()"
   ]
  },
  {
   "cell_type": "markdown",
   "metadata": {},
   "source": [
    "# First Model"
   ]
  },
  {
   "cell_type": "markdown",
   "metadata": {},
   "source": [
    "Model parameters copied from tutorial: https://www.tensorflow.org/tutorials/audio/simple_audio"
   ]
  },
  {
   "cell_type": "code",
   "execution_count": 67,
   "metadata": {},
   "outputs": [
    {
     "name": "stdout",
     "output_type": "stream",
     "text": [
      "Model: \"sequential_6\"\n",
      "_________________________________________________________________\n",
      "Layer (type)                 Output Shape              Param #   \n",
      "=================================================================\n",
      "reshape_3 (Reshape)          (None, 85, 129, 1)        0         \n",
      "_________________________________________________________________\n",
      "resizing_6 (Resizing)        (None, 32, 32, 1)         0         \n",
      "_________________________________________________________________\n",
      "normalization_8 (Normalizati (None, 32, 32, 129)       259       \n",
      "_________________________________________________________________\n",
      "conv2d_12 (Conv2D)           (None, 30, 30, 32)        37184     \n",
      "_________________________________________________________________\n",
      "conv2d_13 (Conv2D)           (None, 28, 28, 64)        18496     \n",
      "_________________________________________________________________\n",
      "max_pooling2d_6 (MaxPooling2 (None, 14, 14, 64)        0         \n",
      "_________________________________________________________________\n",
      "dropout_12 (Dropout)         (None, 14, 14, 64)        0         \n",
      "_________________________________________________________________\n",
      "flatten_6 (Flatten)          (None, 12544)             0         \n",
      "_________________________________________________________________\n",
      "dense_12 (Dense)             (None, 128)               1605760   \n",
      "_________________________________________________________________\n",
      "dropout_13 (Dropout)         (None, 128)               0         \n",
      "_________________________________________________________________\n",
      "dense_13 (Dense)             (None, 2)                 258       \n",
      "=================================================================\n",
      "Total params: 1,661,957\n",
      "Trainable params: 1,661,698\n",
      "Non-trainable params: 259\n",
      "_________________________________________________________________\n"
     ]
    }
   ],
   "source": [
    "norm_layer = tf.keras.layers.experimental.preprocessing.Normalization()\n",
    "norm_layer.adapt(train_dataset.map(lambda x, _: x))\n",
    "model1 = tf.keras.models.Sequential([\n",
    "    tf.keras.Input(shape=SPECTROGRAM_SHAPE),\n",
    "    tf.keras.layers.Reshape((SPECTROGRAM_SHAPE[0], SPECTROGRAM_SHAPE[1], 1)),\n",
    "    tf.keras.layers.experimental.preprocessing.Resizing(32, 32),\n",
    "    norm_layer,\n",
    "    tf.keras.layers.Conv2D(32, 3, activation='relu'),\n",
    "    tf.keras.layers.Conv2D(64, 3, activation='relu'),\n",
    "    tf.keras.layers.MaxPooling2D(),\n",
    "    tf.keras.layers.Dropout(0.25),\n",
    "    tf.keras.layers.Flatten(),\n",
    "    tf.keras.layers.Dense(128, activation='relu'),\n",
    "    tf.keras.layers.Dropout(0.5),\n",
    "    tf.keras.layers.Dense(2)\n",
    "])\n",
    "model1.summary()"
   ]
  },
  {
   "cell_type": "code",
   "execution_count": 74,
   "metadata": {},
   "outputs": [],
   "source": [
    "model1.compile(optimizer='adam', loss=tf.keras.losses.SparseCategoricalCrossentropy(from_logits=True), \n",
    "               metrics=['accuracy'])"
   ]
  },
  {
   "cell_type": "code",
   "execution_count": 75,
   "metadata": {},
   "outputs": [
    {
     "name": "stdout",
     "output_type": "stream",
     "text": [
      "Epoch 1/10\n",
      "163/163 [==============================] - 57s 351ms/step - loss: 51.7488 - accuracy: 0.7857 - val_loss: 0.3317 - val_accuracy: 0.8822\n",
      "Epoch 2/10\n",
      "163/163 [==============================] - 60s 366ms/step - loss: 0.3886 - accuracy: 0.8605 - val_loss: 0.2970 - val_accuracy: 0.8842\n",
      "Epoch 3/10\n",
      "163/163 [==============================] - 59s 360ms/step - loss: 0.3581 - accuracy: 0.8708 - val_loss: 0.2812 - val_accuracy: 0.8849\n",
      "Epoch 4/10\n",
      "163/163 [==============================] - 64s 390ms/step - loss: 0.3282 - accuracy: 0.8802 - val_loss: 0.2468 - val_accuracy: 0.8991\n",
      "Epoch 5/10\n",
      "163/163 [==============================] - 62s 380ms/step - loss: 0.2951 - accuracy: 0.8914 - val_loss: 0.2200 - val_accuracy: 0.9153\n",
      "Epoch 6/10\n",
      "163/163 [==============================] - 58s 358ms/step - loss: 0.2771 - accuracy: 0.8997 - val_loss: 0.2218 - val_accuracy: 0.9163\n",
      "Epoch 7/10\n",
      "163/163 [==============================] - 56s 347ms/step - loss: 0.2689 - accuracy: 0.8996 - val_loss: 0.2199 - val_accuracy: 0.9109\n",
      "Epoch 8/10\n",
      "163/163 [==============================] - 52s 319ms/step - loss: 0.2491 - accuracy: 0.9064 - val_loss: 0.2017 - val_accuracy: 0.9217\n",
      "Epoch 9/10\n",
      "163/163 [==============================] - 51s 313ms/step - loss: 0.2420 - accuracy: 0.9103 - val_loss: 0.1998 - val_accuracy: 0.9264\n",
      "Epoch 10/10\n",
      "163/163 [==============================] - 51s 312ms/step - loss: 0.2309 - accuracy: 0.9167 - val_loss: 0.2624 - val_accuracy: 0.9369\n"
     ]
    },
    {
     "data": {
      "text/plain": [
       "<tensorflow.python.keras.callbacks.History at 0x2a01f255790>"
      ]
     },
     "execution_count": 75,
     "metadata": {},
     "output_type": "execute_result"
    }
   ],
   "source": [
    "model1.fit(train_dataset, epochs=10, validation_data=valid_dataset, callbacks=tf.keras.callbacks.EarlyStopping(patience=2))"
   ]
  },
  {
   "cell_type": "code",
   "execution_count": null,
   "metadata": {},
   "outputs": [],
   "source": []
  }
 ],
 "metadata": {
  "kernelspec": {
   "display_name": "Python 3",
   "language": "python",
   "name": "python3"
  },
  "language_info": {
   "codemirror_mode": {
    "name": "ipython",
    "version": 3
   },
   "file_extension": ".py",
   "mimetype": "text/x-python",
   "name": "python",
   "nbconvert_exporter": "python",
   "pygments_lexer": "ipython3",
   "version": "3.8.3"
  }
 },
 "nbformat": 4,
 "nbformat_minor": 4
}
